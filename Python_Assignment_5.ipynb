{
 "cells": [
  {
   "cell_type": "code",
   "execution_count": 1,
   "id": "85b64a59",
   "metadata": {},
   "outputs": [
    {
     "name": "stdout",
     "output_type": "stream",
     "text": [
      "Enter numerator number: 5\n",
      "Enter denominator number: 0\n",
      "You have divided a number by zero, which is not allowed.\n"
     ]
    }
   ],
   "source": [
    "#function to compute 5/0 and use try/except to catch the exceptions.\n",
    "\n",
    "try:\n",
    "    a = int(input(\"Enter numerator number: \"))\n",
    "    b = int(input(\"Enter denominator number: \"))\n",
    "    print(\"Result of Division: \" + str(a/b))\n",
    "# except block handling division by zero\n",
    "except(ZeroDivisionError):\n",
    "    print(\"You have divided a number by zero, which is not allowed.\")\n",
    "# except block handling wrong value type\n",
    "except(ValueError):\n",
    "    print(\"You must enter integer value\")\n"
   ]
  },
  {
   "cell_type": "code",
   "execution_count": 4,
   "id": "b22763cb",
   "metadata": {},
   "outputs": [
    {
     "name": "stdout",
     "output_type": "stream",
     "text": [
      "Americans  play Baseball\n",
      "Americans  play Cricket\n",
      "Americans  watch Baseball\n",
      "Americans  watch Cricket\n",
      "Indians play Baseball\n",
      "Indians play Cricket\n",
      "Indians watch Baseball\n",
      "Indians watch Cricket\n"
     ]
    }
   ],
   "source": [
    "Subject=[\"Americans \",\"Indians\"]\n",
    "Verb=[\"play\",\"watch\"]\n",
    "Objects=[\"Baseball\",\"Cricket\"]\n",
    "All_sentences=[(sub +\" \"+ ver +\" \" + obj) for sub in Subject for ver in Verb for obj in Objects] \n",
    "for sentence in All_sentences: \n",
    "    print(sentence)"
   ]
  },
  {
   "cell_type": "code",
   "execution_count": null,
   "id": "c4a19f68",
   "metadata": {},
   "outputs": [],
   "source": []
  }
 ],
 "metadata": {
  "kernelspec": {
   "display_name": "Python 3",
   "language": "python",
   "name": "python3"
  },
  "language_info": {
   "codemirror_mode": {
    "name": "ipython",
    "version": 3
   },
   "file_extension": ".py",
   "mimetype": "text/x-python",
   "name": "python",
   "nbconvert_exporter": "python",
   "pygments_lexer": "ipython3",
   "version": "3.8.8"
  }
 },
 "nbformat": 4,
 "nbformat_minor": 5
}
