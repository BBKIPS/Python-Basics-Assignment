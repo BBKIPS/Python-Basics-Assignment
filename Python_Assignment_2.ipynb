{
 "cells": [
  {
   "cell_type": "code",
   "execution_count": 1,
   "id": "dbb6f1a9",
   "metadata": {},
   "outputs": [
    {
     "name": "stdout",
     "output_type": "stream",
     "text": [
      "* \r\n",
      "* * \r\n",
      "* * * \r\n",
      "* * * * \r\n",
      "* * * * * \r\n",
      "* * * * \r\n",
      "* * * \r\n",
      "* * \r\n",
      "* \r\n",
      "\r\n"
     ]
    }
   ],
   "source": [
    "#pattern using nested for loop in Python.\n",
    "rows = 5\n",
    "for i in range(0, rows):\n",
    "    for j in range(0, i + 1):\n",
    "        print(\"*\", end=' ')\n",
    "    print(\"\\r\")\n",
    "\n",
    "for i in range(rows, 0, -1):\n",
    "    for j in range(0, i - 1):\n",
    "        print(\"*\", end=' ')\n",
    "    print(\"\\r\")"
   ]
  },
  {
   "cell_type": "code",
   "execution_count": 2,
   "id": "2932d605",
   "metadata": {},
   "outputs": [
    {
     "name": "stdout",
     "output_type": "stream",
     "text": [
      "Please enter your own String : ineuron\n",
      "\n",
      "The Original String =  ineuron\n",
      "The Reversed String =  norueni\n"
     ]
    }
   ],
   "source": [
    "#Python program to reverse a word after accepting the input from the user.\n",
    "\n",
    "str1 = input(\"Please enter your own String : \")\n",
    "\n",
    "str2 = ''\n",
    "\n",
    "for i in str1:\n",
    "    str2 = i + str2\n",
    "    \n",
    "print(\"\\nThe Original String = \", str1)\n",
    "print(\"The Reversed String = \", str2)"
   ]
  },
  {
   "cell_type": "code",
   "execution_count": null,
   "id": "546fad1b",
   "metadata": {},
   "outputs": [],
   "source": []
  }
 ],
 "metadata": {
  "kernelspec": {
   "display_name": "Python 3",
   "language": "python",
   "name": "python3"
  },
  "language_info": {
   "codemirror_mode": {
    "name": "ipython",
    "version": 3
   },
   "file_extension": ".py",
   "mimetype": "text/x-python",
   "name": "python",
   "nbconvert_exporter": "python",
   "pygments_lexer": "ipython3",
   "version": "3.8.8"
  }
 },
 "nbformat": 4,
 "nbformat_minor": 5
}
